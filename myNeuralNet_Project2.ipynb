{
 "cells": [
  {
   "cell_type": "code",
   "execution_count": 1,
   "id": "03763339",
   "metadata": {
    "id": "5affbd4c"
   },
   "outputs": [],
   "source": [
    "import pandas as pd\n",
    "from pathlib import Path\n",
    "\n",
    "import tensorflow as tf\n",
    "from tensorflow.keras.layers import Dense\n",
    "from tensorflow.keras.models import Sequential\n",
    "from sklearn.model_selection import train_test_split\n",
    "from sklearn.preprocessing import StandardScaler,OneHotEncoder\n",
    "from sklearn.metrics import confusion_matrix\n",
    "from sklearn.metrics import classification_report\n",
    "from sklearn.inspection import permutation_importance"
   ]
  },
  {
   "cell_type": "code",
   "execution_count": 2,
   "id": "7f3fb3ca",
   "metadata": {
    "id": "58394aaa"
   },
   "outputs": [],
   "source": [
    "# reading in training data\n",
    "\n",
    "csv_path = Path('smaller_data_sets/master_df.csv')\n",
    "\n",
    "data_df = pd.read_csv(\n",
    "    csv_path,\n",
    "    index_col = 'SK_ID_CURR',\n",
    ")\n",
    "\n",
    "# train_df.head()"
   ]
  },
  {
   "cell_type": "code",
   "execution_count": 3,
   "id": "afb59cdc",
   "metadata": {
    "id": "bb6febfb"
   },
   "outputs": [],
   "source": [
    "data_df.dropna(inplace = True)\n"
   ]
  },
  {
   "cell_type": "code",
   "execution_count": 4,
   "id": "7fc849e5-931c-4f6d-93c9-110d1474302c",
   "metadata": {},
   "outputs": [
    {
     "data": {
      "text/html": [
       "<div>\n",
       "<style scoped>\n",
       "    .dataframe tbody tr th:only-of-type {\n",
       "        vertical-align: middle;\n",
       "    }\n",
       "\n",
       "    .dataframe tbody tr th {\n",
       "        vertical-align: top;\n",
       "    }\n",
       "\n",
       "    .dataframe thead th {\n",
       "        text-align: right;\n",
       "    }\n",
       "</style>\n",
       "<table border=\"1\" class=\"dataframe\">\n",
       "  <thead>\n",
       "    <tr style=\"text-align: right;\">\n",
       "      <th></th>\n",
       "      <th>Unnamed: 0</th>\n",
       "      <th>TARGET</th>\n",
       "      <th>AMT_INCOME_TOTAL</th>\n",
       "      <th>AMT_CREDIT</th>\n",
       "      <th>AMT_ANNUITY</th>\n",
       "      <th>AMT_GOODS_PRICE</th>\n",
       "      <th>NAME_HOUSING_TYPE</th>\n",
       "      <th>DAYS_EMPLOYED</th>\n",
       "      <th>OBS_30_CNT_SOCIAL_CIRCLE</th>\n",
       "      <th>DEF_30_CNT_SOCIAL_CIRCLE</th>\n",
       "      <th>...</th>\n",
       "      <th>CNT_DRAWINGS_ATM_CURRENT</th>\n",
       "      <th>CNT_DRAWINGS_CURRENT</th>\n",
       "      <th>CNT_DRAWINGS_OTHER_CURRENT</th>\n",
       "      <th>CNT_DRAWINGS_POS_CURRENT</th>\n",
       "      <th>CNT_INSTALMENT_MATURE_CUM</th>\n",
       "      <th>NAME_CONTRACT_STATUS</th>\n",
       "      <th>SK_DPD_CC</th>\n",
       "      <th>SK_DPD_DEF_CC</th>\n",
       "      <th>SK_DPD</th>\n",
       "      <th>SK_DPD_DEF</th>\n",
       "    </tr>\n",
       "    <tr>\n",
       "      <th>SK_ID_CURR</th>\n",
       "      <th></th>\n",
       "      <th></th>\n",
       "      <th></th>\n",
       "      <th></th>\n",
       "      <th></th>\n",
       "      <th></th>\n",
       "      <th></th>\n",
       "      <th></th>\n",
       "      <th></th>\n",
       "      <th></th>\n",
       "      <th></th>\n",
       "      <th></th>\n",
       "      <th></th>\n",
       "      <th></th>\n",
       "      <th></th>\n",
       "      <th></th>\n",
       "      <th></th>\n",
       "      <th></th>\n",
       "      <th></th>\n",
       "      <th></th>\n",
       "      <th></th>\n",
       "    </tr>\n",
       "  </thead>\n",
       "  <tbody>\n",
       "    <tr>\n",
       "      <th>167790</th>\n",
       "      <td>100002</td>\n",
       "      <td>1</td>\n",
       "      <td>202500.0</td>\n",
       "      <td>406597.5</td>\n",
       "      <td>24700.5</td>\n",
       "      <td>351000.0</td>\n",
       "      <td>House / apartment</td>\n",
       "      <td>-637</td>\n",
       "      <td>2.0</td>\n",
       "      <td>2.0</td>\n",
       "      <td>...</td>\n",
       "      <td>0.0</td>\n",
       "      <td>0</td>\n",
       "      <td>0.0</td>\n",
       "      <td>0.0</td>\n",
       "      <td>17.0</td>\n",
       "      <td>Active</td>\n",
       "      <td>0</td>\n",
       "      <td>0</td>\n",
       "      <td>0.000000</td>\n",
       "      <td>0.0000</td>\n",
       "    </tr>\n",
       "    <tr>\n",
       "      <th>357749</th>\n",
       "      <td>100007</td>\n",
       "      <td>0</td>\n",
       "      <td>121500.0</td>\n",
       "      <td>513000.0</td>\n",
       "      <td>21865.5</td>\n",
       "      <td>513000.0</td>\n",
       "      <td>House / apartment</td>\n",
       "      <td>-3038</td>\n",
       "      <td>0.0</td>\n",
       "      <td>0.0</td>\n",
       "      <td>...</td>\n",
       "      <td>0.0</td>\n",
       "      <td>0</td>\n",
       "      <td>0.0</td>\n",
       "      <td>0.0</td>\n",
       "      <td>65.0</td>\n",
       "      <td>Active</td>\n",
       "      <td>0</td>\n",
       "      <td>0</td>\n",
       "      <td>0.000000</td>\n",
       "      <td>0.0000</td>\n",
       "    </tr>\n",
       "    <tr>\n",
       "      <th>205335</th>\n",
       "      <td>100008</td>\n",
       "      <td>0</td>\n",
       "      <td>99000.0</td>\n",
       "      <td>490495.5</td>\n",
       "      <td>27517.5</td>\n",
       "      <td>454500.0</td>\n",
       "      <td>House / apartment</td>\n",
       "      <td>-1588</td>\n",
       "      <td>0.0</td>\n",
       "      <td>0.0</td>\n",
       "      <td>...</td>\n",
       "      <td>0.0</td>\n",
       "      <td>0</td>\n",
       "      <td>0.0</td>\n",
       "      <td>0.0</td>\n",
       "      <td>50.0</td>\n",
       "      <td>Active</td>\n",
       "      <td>0</td>\n",
       "      <td>0</td>\n",
       "      <td>339.060241</td>\n",
       "      <td>0.0000</td>\n",
       "    </tr>\n",
       "    <tr>\n",
       "      <th>198441</th>\n",
       "      <td>100009</td>\n",
       "      <td>0</td>\n",
       "      <td>171000.0</td>\n",
       "      <td>1560726.0</td>\n",
       "      <td>41301.0</td>\n",
       "      <td>1395000.0</td>\n",
       "      <td>House / apartment</td>\n",
       "      <td>-3130</td>\n",
       "      <td>1.0</td>\n",
       "      <td>0.0</td>\n",
       "      <td>...</td>\n",
       "      <td>0.0</td>\n",
       "      <td>0</td>\n",
       "      <td>0.0</td>\n",
       "      <td>0.0</td>\n",
       "      <td>88.0</td>\n",
       "      <td>Active</td>\n",
       "      <td>0</td>\n",
       "      <td>0</td>\n",
       "      <td>0.000000</td>\n",
       "      <td>0.0000</td>\n",
       "    </tr>\n",
       "    <tr>\n",
       "      <th>151882</th>\n",
       "      <td>100010</td>\n",
       "      <td>0</td>\n",
       "      <td>360000.0</td>\n",
       "      <td>1530000.0</td>\n",
       "      <td>42075.0</td>\n",
       "      <td>1530000.0</td>\n",
       "      <td>House / apartment</td>\n",
       "      <td>-449</td>\n",
       "      <td>2.0</td>\n",
       "      <td>0.0</td>\n",
       "      <td>...</td>\n",
       "      <td>0.0</td>\n",
       "      <td>0</td>\n",
       "      <td>0.0</td>\n",
       "      <td>0.0</td>\n",
       "      <td>68.0</td>\n",
       "      <td>Active</td>\n",
       "      <td>0</td>\n",
       "      <td>0</td>\n",
       "      <td>0.000000</td>\n",
       "      <td>0.0000</td>\n",
       "    </tr>\n",
       "    <tr>\n",
       "      <th>...</th>\n",
       "      <td>...</td>\n",
       "      <td>...</td>\n",
       "      <td>...</td>\n",
       "      <td>...</td>\n",
       "      <td>...</td>\n",
       "      <td>...</td>\n",
       "      <td>...</td>\n",
       "      <td>...</td>\n",
       "      <td>...</td>\n",
       "      <td>...</td>\n",
       "      <td>...</td>\n",
       "      <td>...</td>\n",
       "      <td>...</td>\n",
       "      <td>...</td>\n",
       "      <td>...</td>\n",
       "      <td>...</td>\n",
       "      <td>...</td>\n",
       "      <td>...</td>\n",
       "      <td>...</td>\n",
       "      <td>...</td>\n",
       "      <td>...</td>\n",
       "    </tr>\n",
       "    <tr>\n",
       "      <th>167372</th>\n",
       "      <td>456244</td>\n",
       "      <td>0</td>\n",
       "      <td>261000.0</td>\n",
       "      <td>1303812.0</td>\n",
       "      <td>35982.0</td>\n",
       "      <td>1138500.0</td>\n",
       "      <td>House / apartment</td>\n",
       "      <td>-5326</td>\n",
       "      <td>0.0</td>\n",
       "      <td>0.0</td>\n",
       "      <td>...</td>\n",
       "      <td>0.0</td>\n",
       "      <td>37</td>\n",
       "      <td>0.0</td>\n",
       "      <td>37.0</td>\n",
       "      <td>2.0</td>\n",
       "      <td>Active</td>\n",
       "      <td>0</td>\n",
       "      <td>0</td>\n",
       "      <td>0.087500</td>\n",
       "      <td>0.0875</td>\n",
       "    </tr>\n",
       "    <tr>\n",
       "      <th>129900</th>\n",
       "      <td>456246</td>\n",
       "      <td>0</td>\n",
       "      <td>94500.0</td>\n",
       "      <td>225000.0</td>\n",
       "      <td>10620.0</td>\n",
       "      <td>225000.0</td>\n",
       "      <td>House / apartment</td>\n",
       "      <td>-8736</td>\n",
       "      <td>0.0</td>\n",
       "      <td>0.0</td>\n",
       "      <td>...</td>\n",
       "      <td>0.0</td>\n",
       "      <td>0</td>\n",
       "      <td>0.0</td>\n",
       "      <td>0.0</td>\n",
       "      <td>27.0</td>\n",
       "      <td>Completed</td>\n",
       "      <td>0</td>\n",
       "      <td>0</td>\n",
       "      <td>0.000000</td>\n",
       "      <td>0.0000</td>\n",
       "    </tr>\n",
       "    <tr>\n",
       "      <th>272638</th>\n",
       "      <td>456247</td>\n",
       "      <td>0</td>\n",
       "      <td>112500.0</td>\n",
       "      <td>345510.0</td>\n",
       "      <td>17770.5</td>\n",
       "      <td>247500.0</td>\n",
       "      <td>House / apartment</td>\n",
       "      <td>-399</td>\n",
       "      <td>9.0</td>\n",
       "      <td>3.0</td>\n",
       "      <td>...</td>\n",
       "      <td>3.0</td>\n",
       "      <td>9</td>\n",
       "      <td>0.0</td>\n",
       "      <td>6.0</td>\n",
       "      <td>24.0</td>\n",
       "      <td>Active</td>\n",
       "      <td>0</td>\n",
       "      <td>0</td>\n",
       "      <td>0.000000</td>\n",
       "      <td>0.0000</td>\n",
       "    </tr>\n",
       "    <tr>\n",
       "      <th>420023</th>\n",
       "      <td>456249</td>\n",
       "      <td>0</td>\n",
       "      <td>112500.0</td>\n",
       "      <td>225000.0</td>\n",
       "      <td>22050.0</td>\n",
       "      <td>225000.0</td>\n",
       "      <td>House / apartment</td>\n",
       "      <td>365243</td>\n",
       "      <td>0.0</td>\n",
       "      <td>0.0</td>\n",
       "      <td>...</td>\n",
       "      <td>0.0</td>\n",
       "      <td>0</td>\n",
       "      <td>0.0</td>\n",
       "      <td>0.0</td>\n",
       "      <td>10.0</td>\n",
       "      <td>Active</td>\n",
       "      <td>0</td>\n",
       "      <td>0</td>\n",
       "      <td>0.000000</td>\n",
       "      <td>0.0000</td>\n",
       "    </tr>\n",
       "    <tr>\n",
       "      <th>218352</th>\n",
       "      <td>456254</td>\n",
       "      <td>1</td>\n",
       "      <td>171000.0</td>\n",
       "      <td>370107.0</td>\n",
       "      <td>20205.0</td>\n",
       "      <td>319500.0</td>\n",
       "      <td>House / apartment</td>\n",
       "      <td>-4786</td>\n",
       "      <td>0.0</td>\n",
       "      <td>0.0</td>\n",
       "      <td>...</td>\n",
       "      <td>0.0</td>\n",
       "      <td>0</td>\n",
       "      <td>0.0</td>\n",
       "      <td>0.0</td>\n",
       "      <td>51.0</td>\n",
       "      <td>Active</td>\n",
       "      <td>0</td>\n",
       "      <td>0</td>\n",
       "      <td>0.000000</td>\n",
       "      <td>0.0000</td>\n",
       "    </tr>\n",
       "  </tbody>\n",
       "</table>\n",
       "<p>192655 rows × 42 columns</p>\n",
       "</div>"
      ],
      "text/plain": [
       "            Unnamed: 0  TARGET  AMT_INCOME_TOTAL  AMT_CREDIT  AMT_ANNUITY  \\\n",
       "SK_ID_CURR                                                                  \n",
       "167790          100002       1          202500.0    406597.5      24700.5   \n",
       "357749          100007       0          121500.0    513000.0      21865.5   \n",
       "205335          100008       0           99000.0    490495.5      27517.5   \n",
       "198441          100009       0          171000.0   1560726.0      41301.0   \n",
       "151882          100010       0          360000.0   1530000.0      42075.0   \n",
       "...                ...     ...               ...         ...          ...   \n",
       "167372          456244       0          261000.0   1303812.0      35982.0   \n",
       "129900          456246       0           94500.0    225000.0      10620.0   \n",
       "272638          456247       0          112500.0    345510.0      17770.5   \n",
       "420023          456249       0          112500.0    225000.0      22050.0   \n",
       "218352          456254       1          171000.0    370107.0      20205.0   \n",
       "\n",
       "            AMT_GOODS_PRICE  NAME_HOUSING_TYPE  DAYS_EMPLOYED  \\\n",
       "SK_ID_CURR                                                      \n",
       "167790             351000.0  House / apartment           -637   \n",
       "357749             513000.0  House / apartment          -3038   \n",
       "205335             454500.0  House / apartment          -1588   \n",
       "198441            1395000.0  House / apartment          -3130   \n",
       "151882            1530000.0  House / apartment           -449   \n",
       "...                     ...                ...            ...   \n",
       "167372            1138500.0  House / apartment          -5326   \n",
       "129900             225000.0  House / apartment          -8736   \n",
       "272638             247500.0  House / apartment           -399   \n",
       "420023             225000.0  House / apartment         365243   \n",
       "218352             319500.0  House / apartment          -4786   \n",
       "\n",
       "            OBS_30_CNT_SOCIAL_CIRCLE  DEF_30_CNT_SOCIAL_CIRCLE  ...  \\\n",
       "SK_ID_CURR                                                      ...   \n",
       "167790                           2.0                       2.0  ...   \n",
       "357749                           0.0                       0.0  ...   \n",
       "205335                           0.0                       0.0  ...   \n",
       "198441                           1.0                       0.0  ...   \n",
       "151882                           2.0                       0.0  ...   \n",
       "...                              ...                       ...  ...   \n",
       "167372                           0.0                       0.0  ...   \n",
       "129900                           0.0                       0.0  ...   \n",
       "272638                           9.0                       3.0  ...   \n",
       "420023                           0.0                       0.0  ...   \n",
       "218352                           0.0                       0.0  ...   \n",
       "\n",
       "            CNT_DRAWINGS_ATM_CURRENT  CNT_DRAWINGS_CURRENT  \\\n",
       "SK_ID_CURR                                                   \n",
       "167790                           0.0                     0   \n",
       "357749                           0.0                     0   \n",
       "205335                           0.0                     0   \n",
       "198441                           0.0                     0   \n",
       "151882                           0.0                     0   \n",
       "...                              ...                   ...   \n",
       "167372                           0.0                    37   \n",
       "129900                           0.0                     0   \n",
       "272638                           3.0                     9   \n",
       "420023                           0.0                     0   \n",
       "218352                           0.0                     0   \n",
       "\n",
       "            CNT_DRAWINGS_OTHER_CURRENT  CNT_DRAWINGS_POS_CURRENT  \\\n",
       "SK_ID_CURR                                                         \n",
       "167790                             0.0                       0.0   \n",
       "357749                             0.0                       0.0   \n",
       "205335                             0.0                       0.0   \n",
       "198441                             0.0                       0.0   \n",
       "151882                             0.0                       0.0   \n",
       "...                                ...                       ...   \n",
       "167372                             0.0                      37.0   \n",
       "129900                             0.0                       0.0   \n",
       "272638                             0.0                       6.0   \n",
       "420023                             0.0                       0.0   \n",
       "218352                             0.0                       0.0   \n",
       "\n",
       "            CNT_INSTALMENT_MATURE_CUM  NAME_CONTRACT_STATUS  SK_DPD_CC  \\\n",
       "SK_ID_CURR                                                               \n",
       "167790                           17.0                Active          0   \n",
       "357749                           65.0                Active          0   \n",
       "205335                           50.0                Active          0   \n",
       "198441                           88.0                Active          0   \n",
       "151882                           68.0                Active          0   \n",
       "...                               ...                   ...        ...   \n",
       "167372                            2.0                Active          0   \n",
       "129900                           27.0             Completed          0   \n",
       "272638                           24.0                Active          0   \n",
       "420023                           10.0                Active          0   \n",
       "218352                           51.0                Active          0   \n",
       "\n",
       "            SK_DPD_DEF_CC      SK_DPD  SK_DPD_DEF  \n",
       "SK_ID_CURR                                         \n",
       "167790                  0    0.000000      0.0000  \n",
       "357749                  0    0.000000      0.0000  \n",
       "205335                  0  339.060241      0.0000  \n",
       "198441                  0    0.000000      0.0000  \n",
       "151882                  0    0.000000      0.0000  \n",
       "...                   ...         ...         ...  \n",
       "167372                  0    0.087500      0.0875  \n",
       "129900                  0    0.000000      0.0000  \n",
       "272638                  0    0.000000      0.0000  \n",
       "420023                  0    0.000000      0.0000  \n",
       "218352                  0    0.000000      0.0000  \n",
       "\n",
       "[192655 rows x 42 columns]"
      ]
     },
     "execution_count": 4,
     "metadata": {},
     "output_type": "execute_result"
    }
   ],
   "source": [
    "data_df"
   ]
  },
  {
   "cell_type": "code",
   "execution_count": 5,
   "id": "a3d05d21-276c-4c91-bca3-312459189cc6",
   "metadata": {},
   "outputs": [
    {
     "data": {
      "text/html": [
       "<div>\n",
       "<style scoped>\n",
       "    .dataframe tbody tr th:only-of-type {\n",
       "        vertical-align: middle;\n",
       "    }\n",
       "\n",
       "    .dataframe tbody tr th {\n",
       "        vertical-align: top;\n",
       "    }\n",
       "\n",
       "    .dataframe thead th {\n",
       "        text-align: right;\n",
       "    }\n",
       "</style>\n",
       "<table border=\"1\" class=\"dataframe\">\n",
       "  <thead>\n",
       "    <tr style=\"text-align: right;\">\n",
       "      <th></th>\n",
       "      <th>TARGET</th>\n",
       "      <th>AMT_INCOME_TOTAL</th>\n",
       "      <th>AMT_CREDIT</th>\n",
       "      <th>AMT_ANNUITY</th>\n",
       "      <th>AMT_GOODS_PRICE</th>\n",
       "      <th>DAYS_EMPLOYED</th>\n",
       "      <th>MONTHS_BALANCE</th>\n",
       "      <th>AMT_PAYMENT_CURRENT</th>\n",
       "      <th>CNT_INSTALMENT_MATURE_CUM</th>\n",
       "    </tr>\n",
       "    <tr>\n",
       "      <th>SK_ID_CURR</th>\n",
       "      <th></th>\n",
       "      <th></th>\n",
       "      <th></th>\n",
       "      <th></th>\n",
       "      <th></th>\n",
       "      <th></th>\n",
       "      <th></th>\n",
       "      <th></th>\n",
       "      <th></th>\n",
       "    </tr>\n",
       "  </thead>\n",
       "  <tbody>\n",
       "    <tr>\n",
       "      <th>167790</th>\n",
       "      <td>1</td>\n",
       "      <td>202500.0</td>\n",
       "      <td>406597.5</td>\n",
       "      <td>24700.5</td>\n",
       "      <td>351000.0</td>\n",
       "      <td>-637</td>\n",
       "      <td>-8</td>\n",
       "      <td>21.915</td>\n",
       "      <td>17.0</td>\n",
       "    </tr>\n",
       "    <tr>\n",
       "      <th>357749</th>\n",
       "      <td>0</td>\n",
       "      <td>121500.0</td>\n",
       "      <td>513000.0</td>\n",
       "      <td>21865.5</td>\n",
       "      <td>513000.0</td>\n",
       "      <td>-3038</td>\n",
       "      <td>-9</td>\n",
       "      <td>0.000</td>\n",
       "      <td>65.0</td>\n",
       "    </tr>\n",
       "    <tr>\n",
       "      <th>205335</th>\n",
       "      <td>0</td>\n",
       "      <td>99000.0</td>\n",
       "      <td>490495.5</td>\n",
       "      <td>27517.5</td>\n",
       "      <td>454500.0</td>\n",
       "      <td>-1588</td>\n",
       "      <td>-7</td>\n",
       "      <td>0.000</td>\n",
       "      <td>50.0</td>\n",
       "    </tr>\n",
       "    <tr>\n",
       "      <th>198441</th>\n",
       "      <td>0</td>\n",
       "      <td>171000.0</td>\n",
       "      <td>1560726.0</td>\n",
       "      <td>41301.0</td>\n",
       "      <td>1395000.0</td>\n",
       "      <td>-3130</td>\n",
       "      <td>-8</td>\n",
       "      <td>4950.000</td>\n",
       "      <td>88.0</td>\n",
       "    </tr>\n",
       "    <tr>\n",
       "      <th>151882</th>\n",
       "      <td>0</td>\n",
       "      <td>360000.0</td>\n",
       "      <td>1530000.0</td>\n",
       "      <td>42075.0</td>\n",
       "      <td>1530000.0</td>\n",
       "      <td>-449</td>\n",
       "      <td>-7</td>\n",
       "      <td>56.160</td>\n",
       "      <td>68.0</td>\n",
       "    </tr>\n",
       "    <tr>\n",
       "      <th>...</th>\n",
       "      <td>...</td>\n",
       "      <td>...</td>\n",
       "      <td>...</td>\n",
       "      <td>...</td>\n",
       "      <td>...</td>\n",
       "      <td>...</td>\n",
       "      <td>...</td>\n",
       "      <td>...</td>\n",
       "      <td>...</td>\n",
       "    </tr>\n",
       "    <tr>\n",
       "      <th>167372</th>\n",
       "      <td>0</td>\n",
       "      <td>261000.0</td>\n",
       "      <td>1303812.0</td>\n",
       "      <td>35982.0</td>\n",
       "      <td>1138500.0</td>\n",
       "      <td>-5326</td>\n",
       "      <td>-3</td>\n",
       "      <td>92322.540</td>\n",
       "      <td>2.0</td>\n",
       "    </tr>\n",
       "    <tr>\n",
       "      <th>129900</th>\n",
       "      <td>0</td>\n",
       "      <td>94500.0</td>\n",
       "      <td>225000.0</td>\n",
       "      <td>10620.0</td>\n",
       "      <td>225000.0</td>\n",
       "      <td>-8736</td>\n",
       "      <td>-4</td>\n",
       "      <td>0.000</td>\n",
       "      <td>27.0</td>\n",
       "    </tr>\n",
       "    <tr>\n",
       "      <th>272638</th>\n",
       "      <td>0</td>\n",
       "      <td>112500.0</td>\n",
       "      <td>345510.0</td>\n",
       "      <td>17770.5</td>\n",
       "      <td>247500.0</td>\n",
       "      <td>-399</td>\n",
       "      <td>-7</td>\n",
       "      <td>14400.000</td>\n",
       "      <td>24.0</td>\n",
       "    </tr>\n",
       "    <tr>\n",
       "      <th>420023</th>\n",
       "      <td>0</td>\n",
       "      <td>112500.0</td>\n",
       "      <td>225000.0</td>\n",
       "      <td>22050.0</td>\n",
       "      <td>225000.0</td>\n",
       "      <td>365243</td>\n",
       "      <td>-2</td>\n",
       "      <td>27000.000</td>\n",
       "      <td>10.0</td>\n",
       "    </tr>\n",
       "    <tr>\n",
       "      <th>218352</th>\n",
       "      <td>1</td>\n",
       "      <td>171000.0</td>\n",
       "      <td>370107.0</td>\n",
       "      <td>20205.0</td>\n",
       "      <td>319500.0</td>\n",
       "      <td>-4786</td>\n",
       "      <td>-1</td>\n",
       "      <td>104.895</td>\n",
       "      <td>51.0</td>\n",
       "    </tr>\n",
       "  </tbody>\n",
       "</table>\n",
       "<p>192655 rows × 9 columns</p>\n",
       "</div>"
      ],
      "text/plain": [
       "            TARGET  AMT_INCOME_TOTAL  AMT_CREDIT  AMT_ANNUITY  \\\n",
       "SK_ID_CURR                                                      \n",
       "167790           1          202500.0    406597.5      24700.5   \n",
       "357749           0          121500.0    513000.0      21865.5   \n",
       "205335           0           99000.0    490495.5      27517.5   \n",
       "198441           0          171000.0   1560726.0      41301.0   \n",
       "151882           0          360000.0   1530000.0      42075.0   \n",
       "...            ...               ...         ...          ...   \n",
       "167372           0          261000.0   1303812.0      35982.0   \n",
       "129900           0           94500.0    225000.0      10620.0   \n",
       "272638           0          112500.0    345510.0      17770.5   \n",
       "420023           0          112500.0    225000.0      22050.0   \n",
       "218352           1          171000.0    370107.0      20205.0   \n",
       "\n",
       "            AMT_GOODS_PRICE  DAYS_EMPLOYED  MONTHS_BALANCE  \\\n",
       "SK_ID_CURR                                                   \n",
       "167790             351000.0           -637              -8   \n",
       "357749             513000.0          -3038              -9   \n",
       "205335             454500.0          -1588              -7   \n",
       "198441            1395000.0          -3130              -8   \n",
       "151882            1530000.0           -449              -7   \n",
       "...                     ...            ...             ...   \n",
       "167372            1138500.0          -5326              -3   \n",
       "129900             225000.0          -8736              -4   \n",
       "272638             247500.0           -399              -7   \n",
       "420023             225000.0         365243              -2   \n",
       "218352             319500.0          -4786              -1   \n",
       "\n",
       "            AMT_PAYMENT_CURRENT  CNT_INSTALMENT_MATURE_CUM  \n",
       "SK_ID_CURR                                                  \n",
       "167790                   21.915                       17.0  \n",
       "357749                    0.000                       65.0  \n",
       "205335                    0.000                       50.0  \n",
       "198441                 4950.000                       88.0  \n",
       "151882                   56.160                       68.0  \n",
       "...                         ...                        ...  \n",
       "167372                92322.540                        2.0  \n",
       "129900                    0.000                       27.0  \n",
       "272638                14400.000                       24.0  \n",
       "420023                27000.000                       10.0  \n",
       "218352                  104.895                       51.0  \n",
       "\n",
       "[192655 rows x 9 columns]"
      ]
     },
     "execution_count": 5,
     "metadata": {},
     "output_type": "execute_result"
    }
   ],
   "source": [
    "selected_features = data_df[['TARGET','AMT_INCOME_TOTAL', 'AMT_CREDIT', 'AMT_ANNUITY', 'AMT_GOODS_PRICE',\n",
    "       'DAYS_EMPLOYED', 'MONTHS_BALANCE', 'AMT_PAYMENT_CURRENT',\n",
    "       'CNT_INSTALMENT_MATURE_CUM']]\n",
    "selected_features"
   ]
  },
  {
   "cell_type": "code",
   "execution_count": 6,
   "id": "d3be6ca6-e184-42d4-bc5e-ce4efc387102",
   "metadata": {},
   "outputs": [],
   "source": [
    "selected_features.to_csv(\"smaller_data_sets/8_features.csv\")"
   ]
  },
  {
   "cell_type": "code",
   "execution_count": 7,
   "id": "a8fd8a16",
   "metadata": {
    "colab": {
     "base_uri": "https://localhost:8080/",
     "height": 369
    },
    "id": "57d42e55",
    "outputId": "f729db83-9808-4ff2-d67f-6118bfd07e19"
   },
   "outputs": [],
   "source": [
    "# removing extraneous row\n",
    "\n",
    "# data_df = data_df.iloc[:, 1:]\n",
    "\n",
    "# checking data\n",
    "# data_df.shape"
   ]
  },
  {
   "cell_type": "code",
   "execution_count": 8,
   "id": "2a29dbce",
   "metadata": {
    "id": "WnaOnwqy7lSU"
   },
   "outputs": [],
   "source": [
    "# # creating a list of categorical vars / setting up OneHotEncoder\n",
    "\n",
    "# # Creating list\n",
    "# categorical_vars = list(data_df.dtypes[data_df.dtypes == 'object'].index)\n",
    "# # print(categorical_vars)\n",
    "\n",
    "\n",
    "\n",
    "# # OneHotEncoder Instance\n",
    "# enc = OneHotEncoder(sparse = False)\n",
    "\n",
    "# # Encoding Data\n",
    "# encoded_data = enc.fit_transform(data_df[categorical_vars])"
   ]
  },
  {
   "cell_type": "code",
   "execution_count": null,
   "id": "a987050b",
   "metadata": {},
   "outputs": [],
   "source": []
  },
  {
   "cell_type": "code",
   "execution_count": 9,
   "id": "80fd909e",
   "metadata": {
    "id": "Ht6MY0ni8rYz"
   },
   "outputs": [],
   "source": [
    "# # Creating Encoded DataFrame\n",
    "\n",
    "# encoded_df = pd.DataFrame(\n",
    "#     encoded_data,\n",
    "#     columns = enc.get_feature_names(categorical_vars)\n",
    "# )\n",
    "\n",
    "# # Reviewing DF\n",
    "# encoded_df.shape\n",
    "\n",
    "# # adding ID column for eas of use\n",
    "\n",
    "# encoded_df.index = data_df.index"
   ]
  },
  {
   "cell_type": "code",
   "execution_count": 10,
   "id": "d03ad717",
   "metadata": {
    "colab": {
     "base_uri": "https://localhost:8080/",
     "height": 301
    },
    "id": "9Fm3O0rj_27-",
    "outputId": "3a68e95f-caf4-4bbf-b042-fc43bd7d58cc"
   },
   "outputs": [],
   "source": [
    "# encoded_df.columns"
   ]
  },
  {
   "cell_type": "code",
   "execution_count": 11,
   "id": "5b2510f2",
   "metadata": {
    "id": "2W8sAZtRBOCb"
   },
   "outputs": [],
   "source": [
    "# dropping categorical_cars from original dataframe\n",
    "\n",
    "# data_df_4_concat = data_df.drop(columns = categorical_vars)"
   ]
  },
  {
   "cell_type": "code",
   "execution_count": 12,
   "id": "49464164",
   "metadata": {
    "colab": {
     "base_uri": "https://localhost:8080/"
    },
    "id": "lEOut9I5-yZZ",
    "outputId": "4c348cd1-29ec-441b-a82a-f762d0f237a8"
   },
   "outputs": [],
   "source": [
    "# # Concatenating dataframes\n",
    "# training_data_enc = pd.concat([encoded_df, data_df_4_concat], axis = 1)\n",
    "\n",
    "# # checking types of df\n",
    "# training_data_enc.dtypes.describe()\n"
   ]
  },
  {
   "cell_type": "code",
   "execution_count": 13,
   "id": "7e1e4842",
   "metadata": {
    "colab": {
     "base_uri": "https://localhost:8080/"
    },
    "id": "5XGo9JfjCRis",
    "outputId": "1109eb1c-ef1a-4c70-8ca0-807d6ff63a42"
   },
   "outputs": [],
   "source": [
    "# testing to make sure noe object types still in df\n",
    "\n",
    "# should_be_empty = list(training_data_enc.dtypes[training_data_enc.dtypes == 'object'].index)\n",
    "\n",
    "# # should have an empty list if all went well\n",
    "# print(should_be_empty)"
   ]
  },
  {
   "cell_type": "code",
   "execution_count": 14,
   "id": "b54abf49",
   "metadata": {
    "id": "nUp_Eg4TDIoD"
   },
   "outputs": [],
   "source": [
    "# Split the Data for Training and Testing\n",
    "\n",
    "X = selected_features.drop(columns = 'TARGET')\n",
    "\n",
    "y = selected_features['TARGET']\n",
    "\n",
    "\n",
    "\n",
    "# Deploy TrainTestSplit\n",
    "\n",
    "(X_train, X_test, y_train, y_test) = train_test_split(X, y, random_state = 1)"
   ]
  },
  {
   "cell_type": "code",
   "execution_count": 15,
   "id": "fb59526c",
   "metadata": {},
   "outputs": [],
   "source": [
    "# from imblearn.combine import SMOTEENN\n",
    "\n",
    "# sme = SMOTEENN(random_state=1)\n",
    "# X_resampled, y_resampled = sme.fit_resample(X_train, y_train)"
   ]
  },
  {
   "cell_type": "code",
   "execution_count": 16,
   "id": "24f5e54f-9411-4e10-b42b-a53b16dd91c2",
   "metadata": {},
   "outputs": [],
   "source": [
    "from imblearn.over_sampling import RandomOverSampler\n",
    "from imblearn.under_sampling import RandomUnderSampler"
   ]
  },
  {
   "cell_type": "code",
   "execution_count": 17,
   "id": "4e3176c5-d171-41b6-b2a9-76de9fd23f66",
   "metadata": {},
   "outputs": [],
   "source": [
    "# ros = RandomOverSampler(random_state=1)\n",
    "# X_resampled, y_resampled = ros.fit_resample(X_train,y_train)"
   ]
  },
  {
   "cell_type": "code",
   "execution_count": 18,
   "id": "39ba6fcb-1b77-41bc-b5c8-6558ffcb3a82",
   "metadata": {},
   "outputs": [],
   "source": [
    "rus = RandomUnderSampler(random_state=1)\n",
    "X_resampled, y_resampled = rus.fit_resample(X_train,y_train)"
   ]
  },
  {
   "cell_type": "code",
   "execution_count": 19,
   "id": "91b40285-b15c-4239-a030-23b8ab120c7a",
   "metadata": {},
   "outputs": [],
   "source": [
    "# Time to Deploy Standard Scaler\n",
    "# Instantiate StandardScaler\n",
    "\n",
    "scaler = StandardScaler()\n",
    "\n",
    "# Train and Scale\n",
    "\n",
    "X_scaler = scaler.fit(X_resampled)\n",
    "\n",
    "X_resampled = X_scaler.transform(X_resampled)\n",
    "\n",
    "X_test_scaled = X_scaler.transform(X_test)"
   ]
  },
  {
   "cell_type": "code",
   "execution_count": 20,
   "id": "6572ba2b",
   "metadata": {},
   "outputs": [
    {
     "data": {
      "text/plain": [
       "array([[-1.84625213e-02, -2.25463966e-01,  4.83529967e-01, ...,\n",
       "        -1.23223041e+00, -1.84222205e-02, -1.04331385e+00],\n",
       "       [ 1.03733196e-02, -8.04113391e-01, -8.59121783e-01, ...,\n",
       "         1.22378319e+00,  3.99797854e-01, -6.39763485e-01],\n",
       "       [-1.04970044e-01, -1.20191972e+00, -1.51206672e+00, ...,\n",
       "         1.15154749e+00, -2.86001948e-01,  9.23994191e-01],\n",
       "       ...,\n",
       "       [ 1.25716683e-01, -1.95901210e-01, -1.74811207e-01, ...,\n",
       "         6.82015481e-01, -1.56382627e-01,  1.32754456e+00],\n",
       "       [-1.16101676e-03,  3.49767379e-01,  2.11622957e+00, ...,\n",
       "         5.37544093e-01, -2.94333377e-01, -4.88432097e-01],\n",
       "       [ 1.02648011e-01,  8.58624945e-01,  3.71895270e-01, ...,\n",
       "         1.22378319e+00, -2.94207833e-01, -1.09375765e+00]])"
      ]
     },
     "execution_count": 20,
     "metadata": {},
     "output_type": "execute_result"
    }
   ],
   "source": [
    "X_resampled"
   ]
  },
  {
   "cell_type": "code",
   "execution_count": 21,
   "id": "f0e67b82-c004-4447-8217-5eee30b6fa16",
   "metadata": {
    "id": "u3uS1tsvmG-U"
   },
   "outputs": [
    {
     "data": {
      "text/plain": [
       "(22704, 8)"
      ]
     },
     "execution_count": 21,
     "metadata": {},
     "output_type": "execute_result"
    }
   ],
   "source": [
    "# check shape of X df\n",
    "X_resampled.shape"
   ]
  },
  {
   "cell_type": "code",
   "execution_count": 22,
   "id": "f99aa08a-b875-4aab-a9a9-1fb8a68abdd3",
   "metadata": {
    "id": "u3uS1tsvmG-U"
   },
   "outputs": [],
   "source": [
    "# define number input features for nn\n",
    "number_input_features = X_resampled.shape[1]\n",
    "\n",
    "# define number neurons in output layer\n",
    "number_output_neurons = 1\n",
    "\n",
    "# define number of nodes in hidden layer 1\n",
    "hidden_nodes_layer1 = 3"
   ]
  },
  {
   "cell_type": "code",
   "execution_count": 23,
   "id": "8fe2786e",
   "metadata": {
    "id": "Mb0m4Tc5m3QB"
   },
   "outputs": [],
   "source": [
    "# create Sequential() instance\n",
    "nn = Sequential()"
   ]
  },
  {
   "cell_type": "code",
   "execution_count": 24,
   "id": "1d2b7938",
   "metadata": {
    "id": "G7KqMFTBoBGM"
   },
   "outputs": [],
   "source": [
    "# Add the first hidden layer\n",
    "\"\"\"\n",
    "# Add the first hidden layer\n",
    "nn.add(Dense(units=hidden_nodes_layer1, input_dim=number_input_features, activation=\"relu\"))\n",
    "\"\"\"\n",
    "\n",
    "nn.add(Dense(input_dim = number_input_features, units = hidden_nodes_layer1, activation = 'relu'))\n",
    "\n",
    "# Try Second layer\n",
    "# nn.add(Dense(units = 2, activation = 'relu'))"
   ]
  },
  {
   "cell_type": "code",
   "execution_count": 25,
   "id": "44384c41",
   "metadata": {
    "id": "M0lqz9w4oGHf"
   },
   "outputs": [],
   "source": [
    "# Add the output layer to the model specifying the number of output neurons and activation function\n",
    "nn.add(Dense(units = number_output_neurons, activation = 'sigmoid'))"
   ]
  },
  {
   "cell_type": "code",
   "execution_count": 26,
   "id": "90e2c25e",
   "metadata": {
    "colab": {
     "base_uri": "https://localhost:8080/"
    },
    "id": "XN92Wy3QoNI8",
    "outputId": "43925559-d200-4b5e-9649-5d8dee44cd4b"
   },
   "outputs": [
    {
     "name": "stdout",
     "output_type": "stream",
     "text": [
      "Model: \"sequential\"\n",
      "_________________________________________________________________\n",
      "Layer (type)                 Output Shape              Param #   \n",
      "=================================================================\n",
      "dense (Dense)                (None, 3)                 27        \n",
      "_________________________________________________________________\n",
      "dense_1 (Dense)              (None, 1)                 4         \n",
      "=================================================================\n",
      "Total params: 31\n",
      "Trainable params: 31\n",
      "Non-trainable params: 0\n",
      "_________________________________________________________________\n"
     ]
    }
   ],
   "source": [
    "# checking model architecture\n",
    "\n",
    "# Display the Sequential model summary\n",
    "nn.summary()"
   ]
  },
  {
   "cell_type": "code",
   "execution_count": 27,
   "id": "07d2a4d5",
   "metadata": {
    "id": "LkeX2PRVoYI_"
   },
   "outputs": [],
   "source": [
    "# Compile the Sequential model\n",
    "nn.compile(loss = 'binary_crossentropy', optimizer = 'adam', metrics = ['accuracy'])"
   ]
  },
  {
   "cell_type": "code",
   "execution_count": 28,
   "id": "a0d13b6d",
   "metadata": {
    "colab": {
     "base_uri": "https://localhost:8080/"
    },
    "id": "nGyMjKoxoaUa",
    "outputId": "4f309526-75ff-4e52-9960-74db1307a0a7"
   },
   "outputs": [
    {
     "name": "stdout",
     "output_type": "stream",
     "text": [
      "Epoch 1/50\n",
      "710/710 [==============================] - 1s 719us/step - loss: 0.7119 - accuracy: 0.5423\n",
      "Epoch 2/50\n",
      "710/710 [==============================] - 0s 668us/step - loss: 0.6909 - accuracy: 0.5462\n",
      "Epoch 3/50\n",
      "710/710 [==============================] - 0s 685us/step - loss: 0.6871 - accuracy: 0.5515\n",
      "Epoch 4/50\n",
      "710/710 [==============================] - 0s 682us/step - loss: 0.6857 - accuracy: 0.5534\n",
      "Epoch 5/50\n",
      "710/710 [==============================] - 0s 684us/step - loss: 0.6849 - accuracy: 0.5545\n",
      "Epoch 6/50\n",
      "710/710 [==============================] - 0s 679us/step - loss: 0.6838 - accuracy: 0.5563\n",
      "Epoch 7/50\n",
      "710/710 [==============================] - 1s 784us/step - loss: 0.6829 - accuracy: 0.5568\n",
      "Epoch 8/50\n",
      "710/710 [==============================] - 1s 767us/step - loss: 0.6820 - accuracy: 0.5582\n",
      "Epoch 9/50\n",
      "710/710 [==============================] - 1s 786us/step - loss: 0.6813 - accuracy: 0.5589\n",
      "Epoch 10/50\n",
      "710/710 [==============================] - 1s 762us/step - loss: 0.6809 - accuracy: 0.5616\n",
      "Epoch 11/50\n",
      "710/710 [==============================] - 1s 790us/step - loss: 0.6805 - accuracy: 0.5595\n",
      "Epoch 12/50\n",
      "710/710 [==============================] - 1s 771us/step - loss: 0.6802 - accuracy: 0.5614\n",
      "Epoch 13/50\n",
      "710/710 [==============================] - 1s 793us/step - loss: 0.6799 - accuracy: 0.5634\n",
      "Epoch 14/50\n",
      "710/710 [==============================] - 1s 792us/step - loss: 0.6797 - accuracy: 0.5617\n",
      "Epoch 15/50\n",
      "710/710 [==============================] - 1s 793us/step - loss: 0.6794 - accuracy: 0.5622\n",
      "Epoch 16/50\n",
      "710/710 [==============================] - 1s 842us/step - loss: 0.6791 - accuracy: 0.5651\n",
      "Epoch 17/50\n",
      "710/710 [==============================] - 1s 838us/step - loss: 0.6790 - accuracy: 0.5642\n",
      "Epoch 18/50\n",
      "710/710 [==============================] - 1s 777us/step - loss: 0.6787 - accuracy: 0.5653\n",
      "Epoch 19/50\n",
      "710/710 [==============================] - 1s 763us/step - loss: 0.6790 - accuracy: 0.5650\n",
      "Epoch 20/50\n",
      "710/710 [==============================] - 1s 752us/step - loss: 0.6784 - accuracy: 0.5689\n",
      "Epoch 21/50\n",
      "710/710 [==============================] - 1s 744us/step - loss: 0.6786 - accuracy: 0.5664\n",
      "Epoch 22/50\n",
      "710/710 [==============================] - 1s 766us/step - loss: 0.6785 - accuracy: 0.5684\n",
      "Epoch 23/50\n",
      "710/710 [==============================] - 1s 778us/step - loss: 0.6783 - accuracy: 0.5682\n",
      "Epoch 24/50\n",
      "710/710 [==============================] - 1s 762us/step - loss: 0.6780 - accuracy: 0.5679\n",
      "Epoch 25/50\n",
      "710/710 [==============================] - 1s 779us/step - loss: 0.6780 - accuracy: 0.5685\n",
      "Epoch 26/50\n",
      "710/710 [==============================] - 1s 766us/step - loss: 0.6779 - accuracy: 0.5644\n",
      "Epoch 27/50\n",
      "710/710 [==============================] - 1s 782us/step - loss: 0.6779 - accuracy: 0.5679\n",
      "Epoch 28/50\n",
      "710/710 [==============================] - 1s 771us/step - loss: 0.6776 - accuracy: 0.5684\n",
      "Epoch 29/50\n",
      "710/710 [==============================] - 1s 804us/step - loss: 0.6774 - accuracy: 0.5687\n",
      "Epoch 30/50\n",
      "710/710 [==============================] - 1s 804us/step - loss: 0.6773 - accuracy: 0.5704\n",
      "Epoch 31/50\n",
      "710/710 [==============================] - 1s 802us/step - loss: 0.6774 - accuracy: 0.5692\n",
      "Epoch 32/50\n",
      "710/710 [==============================] - 1s 771us/step - loss: 0.6771 - accuracy: 0.5732\n",
      "Epoch 33/50\n",
      "710/710 [==============================] - 1s 784us/step - loss: 0.6768 - accuracy: 0.5723\n",
      "Epoch 34/50\n",
      "710/710 [==============================] - 1s 797us/step - loss: 0.6768 - accuracy: 0.5722\n",
      "Epoch 35/50\n",
      "710/710 [==============================] - 1s 784us/step - loss: 0.6768 - accuracy: 0.5721\n",
      "Epoch 36/50\n",
      "710/710 [==============================] - 1s 756us/step - loss: 0.6767 - accuracy: 0.5736\n",
      "Epoch 37/50\n",
      "710/710 [==============================] - 1s 709us/step - loss: 0.6766 - accuracy: 0.5699\n",
      "Epoch 38/50\n",
      "710/710 [==============================] - 1s 765us/step - loss: 0.6766 - accuracy: 0.5732\n",
      "Epoch 39/50\n",
      "710/710 [==============================] - 1s 772us/step - loss: 0.6765 - accuracy: 0.5713\n",
      "Epoch 40/50\n",
      "710/710 [==============================] - 1s 796us/step - loss: 0.6765 - accuracy: 0.5722\n",
      "Epoch 41/50\n",
      "710/710 [==============================] - 1s 726us/step - loss: 0.6764 - accuracy: 0.5742\n",
      "Epoch 42/50\n",
      "710/710 [==============================] - 1s 782us/step - loss: 0.6764 - accuracy: 0.5729\n",
      "Epoch 43/50\n",
      "710/710 [==============================] - 1s 752us/step - loss: 0.6764 - accuracy: 0.5723\n",
      "Epoch 44/50\n",
      "710/710 [==============================] - 1s 718us/step - loss: 0.6762 - accuracy: 0.5738\n",
      "Epoch 45/50\n",
      "710/710 [==============================] - 1s 725us/step - loss: 0.6762 - accuracy: 0.5729\n",
      "Epoch 46/50\n",
      "710/710 [==============================] - 1s 757us/step - loss: 0.6762 - accuracy: 0.5728\n",
      "Epoch 47/50\n",
      "710/710 [==============================] - 1s 732us/step - loss: 0.6762 - accuracy: 0.5733\n",
      "Epoch 48/50\n",
      "710/710 [==============================] - 1s 746us/step - loss: 0.6763 - accuracy: 0.5716\n",
      "Epoch 49/50\n",
      "710/710 [==============================] - 1s 785us/step - loss: 0.6759 - accuracy: 0.5737\n",
      "Epoch 50/50\n",
      "710/710 [==============================] - 1s 736us/step - loss: 0.6759 - accuracy: 0.5733\n"
     ]
    }
   ],
   "source": [
    "# Fit the model using 50 epochs and the training data\n",
    "deep_nn_model = nn.fit(X_resampled, y_resampled, epochs = 50)"
   ]
  },
  {
   "cell_type": "code",
   "execution_count": 169,
   "id": "0bddfcd6-542a-433c-a897-dcff97e7097c",
   "metadata": {},
   "outputs": [],
   "source": [
    "# loading in model\n",
    "file_path = ('model_stuff/r_oversampled_8_features.json')\n",
    "with open(file_path, 'r') as json_file:\n",
    "    model_json = json_file.read()\n",
    "loaded_model = tf.keras.models.model_from_json(model_json)\n",
    "# loading in model weights to model\n",
    "file_path_weights = ('model_stuff/r_oversampled_8_features.h5')\n",
    "loaded_model.load_weights(file_path_weights)"
   ]
  },
  {
   "cell_type": "code",
   "execution_count": 29,
   "id": "cf079b1c-87d1-4316-8cda-4c6e0e352107",
   "metadata": {},
   "outputs": [],
   "source": [
    "compiled = nn.compile(loss = 'binary_crossentropy', optimizer = 'adam', metrics = ['accuracy'])"
   ]
  },
  {
   "cell_type": "code",
   "execution_count": 30,
   "id": "c10ba4ef",
   "metadata": {
    "colab": {
     "base_uri": "https://localhost:8080/"
    },
    "id": "Ak13aNiGonC1",
    "outputId": "6fe651ae-90b7-4b49-fd2f-e3a35d54cbba"
   },
   "outputs": [
    {
     "name": "stdout",
     "output_type": "stream",
     "text": [
      "Loss: 0.6697334051132202, Accuracy: 0.5437256097793579\n"
     ]
    }
   ],
   "source": [
    "\n",
    "# Evaluate the model loss and accuracy metrics using the evaluate method and the test data\n",
    "model_loss, model_accuracy = nn.evaluate(X_test_scaled, y_test, verbose = 0)\n",
    "\n",
    "# Display the model loss and accuracy results\n",
    "print(f\"Loss: {model_loss}, Accuracy: {model_accuracy}\")"
   ]
  },
  {
   "cell_type": "code",
   "execution_count": 40,
   "id": "b8dea73f",
   "metadata": {
    "id": "1m2JrvFcpG28"
   },
   "outputs": [],
   "source": [
    "# running test prediction\n",
    "nn_prediction_tweak2 = (nn.predict(X_test_scaled) > 0.462).astype(\"int32\")"
   ]
  },
  {
   "cell_type": "code",
   "execution_count": 136,
   "id": "800261c1-2124-4b3c-93e7-5b60bfd63725",
   "metadata": {},
   "outputs": [
    {
     "data": {
      "text/plain": [
       "array([[0]])"
      ]
     },
     "execution_count": 136,
     "metadata": {},
     "output_type": "execute_result"
    }
   ],
   "source": [
    "# X_test_scaled.shape\n",
    "# please_work2 = X_test_scaled[-1,]\n",
    "# nn_prediction_tweak2\n",
    "# please_work = pd.DataFrame(please_work)\n",
    "# please_work.T\n",
    "please_work2 = please_work2.reshape(-1,8)\n",
    "nn_prediction_tweak2"
   ]
  },
  {
   "cell_type": "code",
   "execution_count": 32,
   "id": "e907078b-15c7-4003-9504-1647985454e5",
   "metadata": {},
   "outputs": [],
   "source": [
    "from imblearn.metrics import classification_report_imbalanced"
   ]
  },
  {
   "cell_type": "code",
   "execution_count": 41,
   "id": "c76b84e3",
   "metadata": {
    "id": "l59gZq12qpHB"
   },
   "outputs": [
    {
     "name": "stdout",
     "output_type": "stream",
     "text": [
      "                   pre       rec       spe        f1       geo       iba       sup\n",
      "\n",
      "          0       0.95      0.34      0.77      0.50      0.51      0.25     44403\n",
      "          1       0.09      0.77      0.34      0.16      0.51      0.28      3761\n",
      "\n",
      "avg / total       0.88      0.38      0.74      0.48      0.51      0.25     48164\n",
      "\n"
     ]
    }
   ],
   "source": [
    "# generating further evaluation metrics\n",
    "print(classification_report_imbalanced(y_test, nn_prediction_tweak2))\n",
    "\n",
    "# from sklearn.metrics import confusion_matrix"
   ]
  },
  {
   "cell_type": "code",
   "execution_count": 54,
   "id": "715cd1db-1145-475b-a11c-b42060f55de9",
   "metadata": {},
   "outputs": [],
   "source": [
    "# Save model in JSON format\n",
    "nn_json = nn.to_json()\n",
    "\n",
    "# Define a relative path to save the model\n",
    "# The model should be saved with a .json file extension\n",
    "file_path = Path(\"model_stuff/r_oversampled_8_features.json\")\n",
    "\n",
    "# Write the model to the the file \n",
    "with open(file_path, \"w\") as json_file:\n",
    "  json_file.write(nn_json)  \n",
    "\n",
    "# Define a relative path to save the model weights\n",
    "# The model weights should be saved with a .h5 file extension\n",
    "file_path2 = \"model_stuff/r_oversampled_8_features.h5\"\n",
    "\n",
    "# Save the weights to the file path\n",
    "nn.save_weights(file_path2)"
   ]
  },
  {
   "cell_type": "code",
   "execution_count": null,
   "id": "a0caa74d",
   "metadata": {
    "colab": {
     "base_uri": "https://localhost:8080/",
     "height": 392
    },
    "id": "aUsv6zA4twCf",
    "outputId": "9b8c52ca-e03b-47e1-e906-b7a96628e2ed"
   },
   "outputs": [
    {
     "ename": "TypeError",
     "evalue": "ignored",
     "output_type": "error",
     "traceback": [
      "\u001b[0;31m---------------------------------------------------------------------------\u001b[0m",
      "\u001b[0;31mTypeError\u001b[0m                                 Traceback (most recent call last)",
      "\u001b[0;32m<ipython-input-51-60c29957f5c3>\u001b[0m in \u001b[0;36m<module>\u001b[0;34m()\u001b[0m\n\u001b[1;32m      2\u001b[0m \u001b[0;34m\u001b[0m\u001b[0m\n\u001b[1;32m      3\u001b[0m \u001b[0;34m\u001b[0m\u001b[0m\n\u001b[0;32m----> 4\u001b[0;31m \u001b[0mr\u001b[0m \u001b[0;34m=\u001b[0m \u001b[0mpermutation_importance\u001b[0m\u001b[0;34m(\u001b[0m\u001b[0mnn\u001b[0m\u001b[0;34m,\u001b[0m \u001b[0mX_test\u001b[0m\u001b[0;34m,\u001b[0m \u001b[0my_test\u001b[0m\u001b[0;34m,\u001b[0m \u001b[0mn_repeats\u001b[0m\u001b[0;34m=\u001b[0m\u001b[0;36m30\u001b[0m\u001b[0;34m,\u001b[0m \u001b[0mrandom_state\u001b[0m\u001b[0;34m=\u001b[0m\u001b[0;36m0\u001b[0m\u001b[0;34m)\u001b[0m\u001b[0;34m\u001b[0m\u001b[0;34m\u001b[0m\u001b[0m\n\u001b[0m\u001b[1;32m      5\u001b[0m \u001b[0;34m\u001b[0m\u001b[0m\n\u001b[1;32m      6\u001b[0m \u001b[0;32mfor\u001b[0m \u001b[0mi\u001b[0m \u001b[0;32min\u001b[0m \u001b[0mr\u001b[0m\u001b[0;34m.\u001b[0m\u001b[0mimportances_mean\u001b[0m\u001b[0;34m.\u001b[0m\u001b[0margsort\u001b[0m\u001b[0;34m(\u001b[0m\u001b[0;34m)\u001b[0m\u001b[0;34m[\u001b[0m\u001b[0;34m:\u001b[0m\u001b[0;34m:\u001b[0m\u001b[0;34m-\u001b[0m\u001b[0;36m1\u001b[0m\u001b[0;34m]\u001b[0m\u001b[0;34m:\u001b[0m\u001b[0;34m\u001b[0m\u001b[0;34m\u001b[0m\u001b[0m\n",
      "\u001b[0;32m/usr/local/lib/python3.7/dist-packages/sklearn/inspection/_permutation_importance.py\u001b[0m in \u001b[0;36mpermutation_importance\u001b[0;34m(estimator, X, y, scoring, n_repeats, n_jobs, random_state)\u001b[0m\n\u001b[1;32m    111\u001b[0m     \u001b[0mrandom_seed\u001b[0m \u001b[0;34m=\u001b[0m \u001b[0mrandom_state\u001b[0m\u001b[0;34m.\u001b[0m\u001b[0mrandint\u001b[0m\u001b[0;34m(\u001b[0m\u001b[0mnp\u001b[0m\u001b[0;34m.\u001b[0m\u001b[0miinfo\u001b[0m\u001b[0;34m(\u001b[0m\u001b[0mnp\u001b[0m\u001b[0;34m.\u001b[0m\u001b[0mint32\u001b[0m\u001b[0;34m)\u001b[0m\u001b[0;34m.\u001b[0m\u001b[0mmax\u001b[0m \u001b[0;34m+\u001b[0m \u001b[0;36m1\u001b[0m\u001b[0;34m)\u001b[0m\u001b[0;34m\u001b[0m\u001b[0;34m\u001b[0m\u001b[0m\n\u001b[1;32m    112\u001b[0m \u001b[0;34m\u001b[0m\u001b[0m\n\u001b[0;32m--> 113\u001b[0;31m     \u001b[0mscorer\u001b[0m \u001b[0;34m=\u001b[0m \u001b[0mcheck_scoring\u001b[0m\u001b[0;34m(\u001b[0m\u001b[0mestimator\u001b[0m\u001b[0;34m,\u001b[0m \u001b[0mscoring\u001b[0m\u001b[0;34m=\u001b[0m\u001b[0mscoring\u001b[0m\u001b[0;34m)\u001b[0m\u001b[0;34m\u001b[0m\u001b[0;34m\u001b[0m\u001b[0m\n\u001b[0m\u001b[1;32m    114\u001b[0m     \u001b[0mbaseline_score\u001b[0m \u001b[0;34m=\u001b[0m \u001b[0mscorer\u001b[0m\u001b[0;34m(\u001b[0m\u001b[0mestimator\u001b[0m\u001b[0;34m,\u001b[0m \u001b[0mX\u001b[0m\u001b[0;34m,\u001b[0m \u001b[0my\u001b[0m\u001b[0;34m)\u001b[0m\u001b[0;34m\u001b[0m\u001b[0;34m\u001b[0m\u001b[0m\n\u001b[1;32m    115\u001b[0m \u001b[0;34m\u001b[0m\u001b[0m\n",
      "\u001b[0;32m/usr/local/lib/python3.7/dist-packages/sklearn/metrics/_scorer.py\u001b[0m in \u001b[0;36mcheck_scoring\u001b[0;34m(estimator, scoring, allow_none)\u001b[0m\n\u001b[1;32m    424\u001b[0m                 \u001b[0;34m\"If no scoring is specified, the estimator passed should \"\u001b[0m\u001b[0;34m\u001b[0m\u001b[0;34m\u001b[0m\u001b[0m\n\u001b[1;32m    425\u001b[0m                 \u001b[0;34m\"have a 'score' method. The estimator %r does not.\"\u001b[0m\u001b[0;34m\u001b[0m\u001b[0;34m\u001b[0m\u001b[0m\n\u001b[0;32m--> 426\u001b[0;31m                 % estimator)\n\u001b[0m\u001b[1;32m    427\u001b[0m     \u001b[0;32melif\u001b[0m \u001b[0misinstance\u001b[0m\u001b[0;34m(\u001b[0m\u001b[0mscoring\u001b[0m\u001b[0;34m,\u001b[0m \u001b[0mIterable\u001b[0m\u001b[0;34m)\u001b[0m\u001b[0;34m:\u001b[0m\u001b[0;34m\u001b[0m\u001b[0;34m\u001b[0m\u001b[0m\n\u001b[1;32m    428\u001b[0m         raise ValueError(\"For evaluating multiple scores, use \"\n",
      "\u001b[0;31mTypeError\u001b[0m: If no scoring is specified, the estimator passed should have a 'score' method. The estimator <keras.engine.sequential.Sequential object at 0x7f6c306fb050> does not."
     ]
    }
   ],
   "source": [
    "# score = model.evaluate(X_train, Y_train); print(\"Test loss:\", score[0]); print(\"Test accuracy:\", score[1]\n",
    "\n",
    "\n",
    "r = permutation_importance(nn, X_test, y_test, n_repeats=30, random_state=0)\n",
    "\n",
    "for i in r.importances_mean.argsort()[::-1]:\n",
    "  if r.importances_mean[i] - 2 * r.importances_std[i] > 0:\n",
    "    print(f\"{training_data_enc.feature_names[i]:<8}\"\n",
    "    f\"{r.importances_mean[i]:.3f}\"\n",
    "    f\" +/- {r.importances_std[i]:.3f}\")"
   ]
  },
  {
   "cell_type": "code",
   "execution_count": null,
   "id": "293eb240",
   "metadata": {
    "id": "wPeNSot7twFw"
   },
   "outputs": [],
   "source": []
  },
  {
   "cell_type": "code",
   "execution_count": null,
   "id": "3f63910f",
   "metadata": {
    "id": "103dd438"
   },
   "outputs": [],
   "source": [
    "# # reading in testing data\n",
    "\n",
    "# csv_path = Path('../smaller_data_sets/application_test.csv')\n",
    "\n",
    "# test_df = pd.read_csv(\n",
    "#     csv_path,\n",
    "#     index_col = 'SK_ID_CURR',\n",
    "# )\n",
    "\n",
    "# test_df.head()"
   ]
  },
  {
   "cell_type": "code",
   "execution_count": null,
   "id": "de505a4f",
   "metadata": {
    "id": "9cb8df73"
   },
   "outputs": [],
   "source": [
    "\"\"\"\n",
    "\n",
    "PROCESS\n",
    "\n",
    "1. Read In Training Data, Remove any Unnecessary Rows /\n",
    "\n",
    "2. Read In Testing Data, Remove any Unnecessary Rows /\n",
    "\n",
    "3. Encode Categorical Variables /\n",
    "\n",
    "4. Deploy Standard Scaler \n",
    "\n",
    "5. Create a 1 layer model, maybe two layer if needed\n",
    "\n",
    "6. Train / Run \n",
    "\n",
    "7. Evaluate \n",
    "\n",
    "\n",
    "\"\"\""
   ]
  },
  {
   "cell_type": "code",
   "execution_count": null,
   "id": "8f6ac8f2",
   "metadata": {
    "id": "6e5e9bfa"
   },
   "outputs": [],
   "source": []
  },
  {
   "cell_type": "code",
   "execution_count": null,
   "id": "73aec71e",
   "metadata": {
    "id": "5f429080"
   },
   "outputs": [],
   "source": []
  }
 ],
 "metadata": {
  "accelerator": "GPU",
  "colab": {
   "collapsed_sections": [],
   "name": "NeuralNet_Project2.ipynb",
   "provenance": []
  },
  "kernelspec": {
   "display_name": "dev",
   "language": "python",
   "name": "dev"
  },
  "language_info": {
   "codemirror_mode": {
    "name": "ipython",
    "version": 3
   },
   "file_extension": ".py",
   "mimetype": "text/x-python",
   "name": "python",
   "nbconvert_exporter": "python",
   "pygments_lexer": "ipython3",
   "version": "3.7.10"
  }
 },
 "nbformat": 4,
 "nbformat_minor": 5
}
